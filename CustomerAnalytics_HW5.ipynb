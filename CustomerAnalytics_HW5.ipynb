{
 "cells": [
  {
   "cell_type": "code",
   "execution_count": 138,
   "metadata": {},
   "outputs": [],
   "source": [
    "import numpy as np\n",
    "import pandas as pd \n",
    "import matplotlib.pyplot as plt \n",
    "import scipy\n",
    "import math\n",
    "%matplotlib inline"
   ]
  },
  {
   "cell_type": "code",
   "execution_count": 139,
   "metadata": {},
   "outputs": [],
   "source": [
    "est = pd.read_excel('delphi-consensus-outputs.xlsx')\n",
    "rev = pd.read_excel('margin-revenue-salesforce.xlsx')"
   ]
  },
  {
   "cell_type": "code",
   "execution_count": 140,
   "metadata": {},
   "outputs": [
    {
     "data": {
      "text/html": [
       "<div>\n",
       "<style scoped>\n",
       "    .dataframe tbody tr th:only-of-type {\n",
       "        vertical-align: middle;\n",
       "    }\n",
       "\n",
       "    .dataframe tbody tr th {\n",
       "        vertical-align: top;\n",
       "    }\n",
       "\n",
       "    .dataframe thead th {\n",
       "        text-align: right;\n",
       "    }\n",
       "</style>\n",
       "<table border=\"1\" class=\"dataframe\">\n",
       "  <thead>\n",
       "    <tr style=\"text-align: right;\">\n",
       "      <th></th>\n",
       "      <th>Unnamed: 0</th>\n",
       "      <th>Naprosyn</th>\n",
       "      <th>Nipro</th>\n",
       "      <th>Anaprox</th>\n",
       "      <th>Norinyl</th>\n",
       "      <th>Pironil</th>\n",
       "      <th>Lidex</th>\n",
       "      <th>Synalar</th>\n",
       "      <th>Nasalide</th>\n",
       "    </tr>\n",
       "  </thead>\n",
       "  <tbody>\n",
       "    <tr>\n",
       "      <th>0</th>\n",
       "      <td>Zero</td>\n",
       "      <td>0.30</td>\n",
       "      <td>0.47</td>\n",
       "      <td>0.15</td>\n",
       "      <td>0.31</td>\n",
       "      <td>0.45</td>\n",
       "      <td>0.56</td>\n",
       "      <td>0.59</td>\n",
       "      <td>0.15</td>\n",
       "    </tr>\n",
       "    <tr>\n",
       "      <th>1</th>\n",
       "      <td>50% of current</td>\n",
       "      <td>0.45</td>\n",
       "      <td>0.68</td>\n",
       "      <td>0.48</td>\n",
       "      <td>0.63</td>\n",
       "      <td>0.70</td>\n",
       "      <td>0.80</td>\n",
       "      <td>0.76</td>\n",
       "      <td>0.61</td>\n",
       "    </tr>\n",
       "    <tr>\n",
       "      <th>2</th>\n",
       "      <td>100% of current</td>\n",
       "      <td>1.00</td>\n",
       "      <td>1.05</td>\n",
       "      <td>1.04</td>\n",
       "      <td>1.03</td>\n",
       "      <td>1.01</td>\n",
       "      <td>1.02</td>\n",
       "      <td>1.02</td>\n",
       "      <td>1.07</td>\n",
       "    </tr>\n",
       "    <tr>\n",
       "      <th>3</th>\n",
       "      <td>150% of current</td>\n",
       "      <td>1.40</td>\n",
       "      <td>1.26</td>\n",
       "      <td>1.20</td>\n",
       "      <td>1.15</td>\n",
       "      <td>1.05</td>\n",
       "      <td>1.11</td>\n",
       "      <td>1.07</td>\n",
       "      <td>1.46</td>\n",
       "    </tr>\n",
       "    <tr>\n",
       "      <th>4</th>\n",
       "      <td>Saturation</td>\n",
       "      <td>1.60</td>\n",
       "      <td>1.52</td>\n",
       "      <td>1.35</td>\n",
       "      <td>1.25</td>\n",
       "      <td>1.10</td>\n",
       "      <td>1.20</td>\n",
       "      <td>1.11</td>\n",
       "      <td>1.76</td>\n",
       "    </tr>\n",
       "  </tbody>\n",
       "</table>\n",
       "</div>"
      ],
      "text/plain": [
       "        Unnamed: 0  Naprosyn  Nipro  Anaprox  Norinyl  Pironil  Lidex  \\\n",
       "0             Zero      0.30   0.47     0.15     0.31     0.45   0.56   \n",
       "1   50% of current      0.45   0.68     0.48     0.63     0.70   0.80   \n",
       "2  100% of current      1.00   1.05     1.04     1.03     1.01   1.02   \n",
       "3  150% of current      1.40   1.26     1.20     1.15     1.05   1.11   \n",
       "4       Saturation      1.60   1.52     1.35     1.25     1.10   1.20   \n",
       "\n",
       "   Synalar  Nasalide  \n",
       "0     0.59      0.15  \n",
       "1     0.76      0.61  \n",
       "2     1.02      1.07  \n",
       "3     1.07      1.46  \n",
       "4     1.11      1.76  "
      ]
     },
     "execution_count": 140,
     "metadata": {},
     "output_type": "execute_result"
    }
   ],
   "source": [
    "est"
   ]
  },
  {
   "cell_type": "code",
   "execution_count": 141,
   "metadata": {},
   "outputs": [],
   "source": [
    "rev = rev.drop(' ', axis =1)"
   ]
  },
  {
   "cell_type": "code",
   "execution_count": 142,
   "metadata": {},
   "outputs": [],
   "source": [
    "adbug_min = est.min()[1:]"
   ]
  },
  {
   "cell_type": "code",
   "execution_count": 143,
   "metadata": {},
   "outputs": [],
   "source": [
    "adbug_max = est.max()[1:]"
   ]
  },
  {
   "cell_type": "markdown",
   "metadata": {},
   "source": [
    "### Part A:"
   ]
  },
  {
   "cell_type": "code",
   "execution_count": 144,
   "metadata": {},
   "outputs": [],
   "source": [
    "from scipy.optimize import curve_fit\n",
    "\n",
    "def func(SF, adbug_min, adbug_max, c,d):\n",
    "    return adbug_min + (adbug_max-adbug_min)*((SF**c)/(d + SF**c))\n",
    "p0 = np.zeros((8,4))\n",
    "SF = [0,0.5,1,1.5,10]\n",
    "for i in range(8):\n",
    "    p0[i] = [1,1,adbug_min[i],adbug_max[i]]\n",
    "\n",
    "response = est[est.columns[1:]]\n",
    "popt = []\n",
    "cov = []\n",
    "for i in range(8):\n",
    "    popt.append(curve_fit(func, SF, response.iloc[:,i], p0[i])[0])\n",
    "    cov.append(curve_fit(func, SF, response.iloc[:,i], p0[i])[1])"
   ]
  },
  {
   "cell_type": "code",
   "execution_count": 145,
   "metadata": {},
   "outputs": [
    {
     "data": {
      "text/html": [
       "<div>\n",
       "<style scoped>\n",
       "    .dataframe tbody tr th:only-of-type {\n",
       "        vertical-align: middle;\n",
       "    }\n",
       "\n",
       "    .dataframe tbody tr th {\n",
       "        vertical-align: top;\n",
       "    }\n",
       "\n",
       "    .dataframe thead th {\n",
       "        text-align: right;\n",
       "    }\n",
       "</style>\n",
       "<table border=\"1\" class=\"dataframe\">\n",
       "  <thead>\n",
       "    <tr style=\"text-align: right;\">\n",
       "      <th></th>\n",
       "      <th>Min</th>\n",
       "      <th>Max</th>\n",
       "      <th>c</th>\n",
       "      <th>d</th>\n",
       "    </tr>\n",
       "  </thead>\n",
       "  <tbody>\n",
       "    <tr>\n",
       "      <th>Naprosyn</th>\n",
       "      <td>0.31</td>\n",
       "      <td>1.61</td>\n",
       "      <td>3.46</td>\n",
       "      <td>0.84</td>\n",
       "    </tr>\n",
       "    <tr>\n",
       "      <th>Nipro</th>\n",
       "      <td>0.47</td>\n",
       "      <td>1.52</td>\n",
       "      <td>2.26</td>\n",
       "      <td>0.83</td>\n",
       "    </tr>\n",
       "    <tr>\n",
       "      <th>Anaprox</th>\n",
       "      <td>0.15</td>\n",
       "      <td>1.34</td>\n",
       "      <td>2.82</td>\n",
       "      <td>0.36</td>\n",
       "    </tr>\n",
       "    <tr>\n",
       "      <th>Norinyl</th>\n",
       "      <td>0.31</td>\n",
       "      <td>1.25</td>\n",
       "      <td>2.62</td>\n",
       "      <td>0.31</td>\n",
       "    </tr>\n",
       "    <tr>\n",
       "      <th>Pironil</th>\n",
       "      <td>0.45</td>\n",
       "      <td>1.09</td>\n",
       "      <td>3.25</td>\n",
       "      <td>0.16</td>\n",
       "    </tr>\n",
       "    <tr>\n",
       "      <th>Lidex</th>\n",
       "      <td>0.56</td>\n",
       "      <td>1.20</td>\n",
       "      <td>2.09</td>\n",
       "      <td>0.39</td>\n",
       "    </tr>\n",
       "    <tr>\n",
       "      <th>Synalar</th>\n",
       "      <td>0.59</td>\n",
       "      <td>1.11</td>\n",
       "      <td>3.25</td>\n",
       "      <td>0.21</td>\n",
       "    </tr>\n",
       "    <tr>\n",
       "      <th>Nasalide</th>\n",
       "      <td>0.16</td>\n",
       "      <td>1.78</td>\n",
       "      <td>2.05</td>\n",
       "      <td>0.68</td>\n",
       "    </tr>\n",
       "  </tbody>\n",
       "</table>\n",
       "</div>"
      ],
      "text/plain": [
       "          Min  Max    c    d\n",
       "Naprosyn 0.31 1.61 3.46 0.84\n",
       "Nipro    0.47 1.52 2.26 0.83\n",
       "Anaprox  0.15 1.34 2.82 0.36\n",
       "Norinyl  0.31 1.25 2.62 0.31\n",
       "Pironil  0.45 1.09 3.25 0.16\n",
       "Lidex    0.56 1.20 2.09 0.39\n",
       "Synalar  0.59 1.11 3.25 0.21\n",
       "Nasalide 0.16 1.78 2.05 0.68"
      ]
     },
     "execution_count": 145,
     "metadata": {},
     "output_type": "execute_result"
    }
   ],
   "source": [
    "nonlin = pd.DataFrame(popt,columns=['Min','Max','c','d'],index =adbug_max.index )\n",
    "nonlin"
   ]
  },
  {
   "cell_type": "markdown",
   "metadata": {},
   "source": [
    "### Part B:"
   ]
  },
  {
   "cell_type": "code",
   "execution_count": 146,
   "metadata": {
    "scrolled": true
   },
   "outputs": [
    {
     "data": {
      "text/plain": [
       "array([[  0.7 , 214.4 ,  96.8 ],\n",
       "       [  0.8 , 210.1 ,  97.2 ],\n",
       "       [  0.55,  36.5 , 142.4 ],\n",
       "       [  0.72,  21.2 ,  52.7 ],\n",
       "       [  0.72,  37.2 ,  24.1 ],\n",
       "       [  0.62,  38.  ,  27.3 ],\n",
       "       [  0.53,  14.6 ,  29.7 ],\n",
       "       [  0.52,  11.2 ,  56.8 ]])"
      ]
     },
     "execution_count": 146,
     "metadata": {},
     "output_type": "execute_result"
    }
   ],
   "source": [
    "rev1 = np.asarray(rev).transpose()\n",
    "nonlin1 = np.asarray(nonlin)\n",
    "rev1"
   ]
  },
  {
   "cell_type": "code",
   "execution_count": 174,
   "metadata": {},
   "outputs": [],
   "source": [
    "def negative_profit(x0):\n",
    "    resp = func((x0/rev1[i][2]),nonlin1[i][0],nonlin1[i][1],nonlin1[i][2],nonlin1[i][3])\n",
    "    profit = (resp*rev.loc[1][i]*rev.loc[0][i]) - (x0*0.057)\n",
    "    return (-1*profit)"
   ]
  },
  {
   "cell_type": "code",
   "execution_count": 175,
   "metadata": {},
   "outputs": [
    {
     "name": "stdout",
     "output_type": "stream",
     "text": [
      "`gtol` termination condition is satisfied.\n",
      "Number of iterations: 25, function evaluations: 30, CG iterations: 14, optimality: 7.09e-09, constraint violation: 0.00e+00, execution time: 0.076 s.\n",
      "`xtol` termination condition is satisfied.\n",
      "Number of iterations: 53, function evaluations: 40, CG iterations: 41, optimality: 1.73e-08, constraint violation: 0.00e+00, execution time: 0.094 s.\n",
      "`gtol` termination condition is satisfied.\n",
      "Number of iterations: 18, function evaluations: 20, CG iterations: 9, optimality: 2.88e-09, constraint violation: 0.00e+00, execution time: 0.041 s.\n",
      "`gtol` termination condition is satisfied.\n",
      "Number of iterations: 15, function evaluations: 14, CG iterations: 6, optimality: 3.10e-09, constraint violation: 0.00e+00, execution time: 0.032 s.\n"
     ]
    },
    {
     "name": "stderr",
     "output_type": "stream",
     "text": [
      "/opt/anaconda3/lib/python3.8/site-packages/scipy/optimize/_hessian_update_strategy.py:182: UserWarning: delta_grad == 0.0. Check if the approximated function is linear. If the function is linear better results can be obtained by defining the Hessian as zero instead of using quasi-Newton approximations.\n",
      "  warn('delta_grad == 0.0. Check if the approximated '\n",
      "/opt/anaconda3/lib/python3.8/site-packages/scipy/optimize/_hessian_update_strategy.py:182: UserWarning: delta_grad == 0.0. Check if the approximated function is linear. If the function is linear better results can be obtained by defining the Hessian as zero instead of using quasi-Newton approximations.\n",
      "  warn('delta_grad == 0.0. Check if the approximated '\n"
     ]
    },
    {
     "name": "stdout",
     "output_type": "stream",
     "text": [
      "`gtol` termination condition is satisfied.\n",
      "Number of iterations: 22, function evaluations: 30, CG iterations: 14, optimality: 2.38e-09, constraint violation: 0.00e+00, execution time: 0.051 s.\n",
      "`gtol` termination condition is satisfied.\n",
      "Number of iterations: 22, function evaluations: 24, CG iterations: 11, optimality: 9.74e-09, constraint violation: 0.00e+00, execution time: 0.067 s.\n",
      "`gtol` termination condition is satisfied.\n",
      "Number of iterations: 20, function evaluations: 26, CG iterations: 12, optimality: 8.69e-09, constraint violation: 0.00e+00, execution time: 0.052 s.\n",
      "`gtol` termination condition is satisfied.\n",
      "Number of iterations: 13, function evaluations: 12, CG iterations: 5, optimality: 7.93e-09, constraint violation: 0.00e+00, execution time: 0.032 s.\n"
     ]
    }
   ],
   "source": [
    "import scipy.optimize as optimize\n",
    "import numpy as np\n",
    "lower_bound = 0\n",
    "x0 = 80 \n",
    "bounds_object = optimize.Bounds(lower_bound, np.inf)\n",
    "opt_sales = np.zeros(8)\n",
    "for i in range(8):\n",
    "    optimizer_output = optimize.minimize(negative_profit,x0, method='trust-constr', bounds=bounds_object, options={'verbose': 1})\n",
    "    opt_sales[i] = optimizer_output.x"
   ]
  },
  {
   "cell_type": "code",
   "execution_count": 193,
   "metadata": {},
   "outputs": [],
   "source": [
    "opt_fun = []\n",
    "for i in range(8):\n",
    "    opt_fun.append(-negative_profit(opt_sales[i]))\n",
    "df = np.transpose([opt_sales,opt_fun])"
   ]
  },
  {
   "cell_type": "code",
   "execution_count": 194,
   "metadata": {},
   "outputs": [
    {
     "data": {
      "text/plain": [
       "array([270.5127472 , 330.04559463, 171.68612697,  71.33334766,\n",
       "        36.88030477,  50.00488776,  30.65498601,  71.1607629 ])"
      ]
     },
     "execution_count": 194,
     "metadata": {},
     "output_type": "execute_result"
    }
   ],
   "source": [
    "df[:,0]"
   ]
  },
  {
   "cell_type": "code",
   "execution_count": 165,
   "metadata": {},
   "outputs": [
    {
     "data": {
      "text/html": [
       "<div>\n",
       "<style scoped>\n",
       "    .dataframe tbody tr th:only-of-type {\n",
       "        vertical-align: middle;\n",
       "    }\n",
       "\n",
       "    .dataframe tbody tr th {\n",
       "        vertical-align: top;\n",
       "    }\n",
       "\n",
       "    .dataframe thead th {\n",
       "        text-align: right;\n",
       "    }\n",
       "</style>\n",
       "<table border=\"1\" class=\"dataframe\">\n",
       "  <thead>\n",
       "    <tr style=\"text-align: right;\">\n",
       "      <th></th>\n",
       "      <th>Optimal Sales Force</th>\n",
       "      <th>Objective function Value</th>\n",
       "    </tr>\n",
       "  </thead>\n",
       "  <tbody>\n",
       "    <tr>\n",
       "      <th>Naprosyn</th>\n",
       "      <td>270.51</td>\n",
       "      <td>221.19</td>\n",
       "    </tr>\n",
       "    <tr>\n",
       "      <th>Nipro</th>\n",
       "      <td>330.05</td>\n",
       "      <td>228.62</td>\n",
       "    </tr>\n",
       "    <tr>\n",
       "      <th>Anaprox</th>\n",
       "      <td>171.69</td>\n",
       "      <td>12.95</td>\n",
       "    </tr>\n",
       "    <tr>\n",
       "      <th>Norinyl</th>\n",
       "      <td>71.33</td>\n",
       "      <td>13.21</td>\n",
       "    </tr>\n",
       "    <tr>\n",
       "      <th>Pironil</th>\n",
       "      <td>36.88</td>\n",
       "      <td>26.47</td>\n",
       "    </tr>\n",
       "    <tr>\n",
       "      <th>Lidex</th>\n",
       "      <td>50.00</td>\n",
       "      <td>23.96</td>\n",
       "    </tr>\n",
       "    <tr>\n",
       "      <th>Synalar</th>\n",
       "      <td>30.65</td>\n",
       "      <td>6.17</td>\n",
       "    </tr>\n",
       "    <tr>\n",
       "      <th>Nasalide</th>\n",
       "      <td>71.16</td>\n",
       "      <td>3.49</td>\n",
       "    </tr>\n",
       "  </tbody>\n",
       "</table>\n",
       "</div>"
      ],
      "text/plain": [
       "          Optimal Sales Force  Objective function Value\n",
       "Naprosyn               270.51                    221.19\n",
       "Nipro                  330.05                    228.62\n",
       "Anaprox                171.69                     12.95\n",
       "Norinyl                 71.33                     13.21\n",
       "Pironil                 36.88                     26.47\n",
       "Lidex                   50.00                     23.96\n",
       "Synalar                 30.65                      6.17\n",
       "Nasalide                71.16                      3.49"
      ]
     },
     "execution_count": 165,
     "metadata": {},
     "output_type": "execute_result"
    }
   ],
   "source": [
    "pd.DataFrame(df,columns = ['Optimal Sales Force','Objective function Value'],index =adbug_max.index)"
   ]
  },
  {
   "cell_type": "markdown",
   "metadata": {},
   "source": [
    "### Part C:"
   ]
  },
  {
   "cell_type": "code",
   "execution_count": 195,
   "metadata": {},
   "outputs": [],
   "source": [
    "def negative_profit2(NSF):\n",
    "    total_profit = 0\n",
    "    prof = np.zeros(8)\n",
    "    for i in range(8):\n",
    "        resp = func((NSF[i]/rev1[i][2]),nonlin1[i][0],nonlin1[i][1],nonlin1[i][2],nonlin1[i][3])\n",
    "        profit = (resp*rev1[i][1]*rev1[i][0]) - (NSF[i]*0.057)\n",
    "        total_profit += profit\n",
    "        prof[i] = profit \n",
    "    return -1*total_profit"
   ]
  },
  {
   "cell_type": "code",
   "execution_count": 196,
   "metadata": {},
   "outputs": [],
   "source": [
    "n_drugs = 8\n",
    "total_salesforce_size = 700\n",
    "lower_bound = 0\n",
    "x0 = np.ones(n_drugs)*total_salesforce_size/n_drugs\n",
    "sum_constraint_object = optimize.LinearConstraint(np.ones((1,n_drugs)), lower_bound, total_salesforce_size)\n",
    "bounds_object = optimize.Bounds(lower_bound, np.inf)\n",
    "opt_sales = np.zeros(8)\n",
    "optimizer_output = optimize.minimize(negative_profit2, x0, method='SLSQP', bounds=bounds_object, constraints=sum_constraint_object)\n",
    "opt_sales = optimizer_output.x"
   ]
  },
  {
   "cell_type": "code",
   "execution_count": 209,
   "metadata": {},
   "outputs": [],
   "source": [
    "Objective_func = []\n",
    "for i in range(8):\n",
    "    Objective_func.append(-negative_profit(opt_sales[i]))\n",
    "percentprofit_red = -((Objective_func - df[:,1])/df[:,1])*100\n",
    "percent_red = -(((opt_sales - df[:,0])/df[:,0]))*100\n",
    "lf = [opt_sales,Objective_func,percentprofit_red,percent_red]\n",
    "lf = pd.DataFrame(np.transpose(lf), columns = ['Optimal Sales Force','Objective function Value','Percent Profit Reduction','Percent Salesforce Reduction'],index =adbug_max.index)\n",
    "\n",
    "pd.options.display.float_format = '{:.2f}'.format"
   ]
  },
  {
   "cell_type": "code",
   "execution_count": 210,
   "metadata": {},
   "outputs": [
    {
     "data": {
      "text/plain": [
       "array([-0.18577901, -0.25487989, -0.31589005, -0.27759557, -0.20034839,\n",
       "       -0.29318662, -1.        , -1.        ])"
      ]
     },
     "execution_count": 210,
     "metadata": {},
     "output_type": "execute_result"
    }
   ],
   "source": [
    "(opt_sales - df[:,0])/df[:,0]"
   ]
  },
  {
   "cell_type": "code",
   "execution_count": 211,
   "metadata": {},
   "outputs": [
    {
     "data": {
      "text/html": [
       "<div>\n",
       "<style scoped>\n",
       "    .dataframe tbody tr th:only-of-type {\n",
       "        vertical-align: middle;\n",
       "    }\n",
       "\n",
       "    .dataframe tbody tr th {\n",
       "        vertical-align: top;\n",
       "    }\n",
       "\n",
       "    .dataframe thead th {\n",
       "        text-align: right;\n",
       "    }\n",
       "</style>\n",
       "<table border=\"1\" class=\"dataframe\">\n",
       "  <thead>\n",
       "    <tr style=\"text-align: right;\">\n",
       "      <th></th>\n",
       "      <th>Optimal Sales Force</th>\n",
       "      <th>Objective function Value</th>\n",
       "      <th>Percent Profit Reduction</th>\n",
       "      <th>Percent Salesforce Reduction</th>\n",
       "    </tr>\n",
       "  </thead>\n",
       "  <tbody>\n",
       "    <tr>\n",
       "      <th>Naprosyn</th>\n",
       "      <td>220.26</td>\n",
       "      <td>219.55</td>\n",
       "      <td>0.74</td>\n",
       "      <td>18.58</td>\n",
       "    </tr>\n",
       "    <tr>\n",
       "      <th>Nipro</th>\n",
       "      <td>245.92</td>\n",
       "      <td>225.90</td>\n",
       "      <td>1.19</td>\n",
       "      <td>25.49</td>\n",
       "    </tr>\n",
       "    <tr>\n",
       "      <th>Anaprox</th>\n",
       "      <td>117.45</td>\n",
       "      <td>11.07</td>\n",
       "      <td>14.54</td>\n",
       "      <td>31.59</td>\n",
       "    </tr>\n",
       "    <tr>\n",
       "      <th>Norinyl</th>\n",
       "      <td>51.53</td>\n",
       "      <td>12.55</td>\n",
       "      <td>4.99</td>\n",
       "      <td>27.76</td>\n",
       "    </tr>\n",
       "    <tr>\n",
       "      <th>Pironil</th>\n",
       "      <td>29.49</td>\n",
       "      <td>26.23</td>\n",
       "      <td>0.92</td>\n",
       "      <td>20.03</td>\n",
       "    </tr>\n",
       "    <tr>\n",
       "      <th>Lidex</th>\n",
       "      <td>35.34</td>\n",
       "      <td>23.48</td>\n",
       "      <td>1.99</td>\n",
       "      <td>29.32</td>\n",
       "    </tr>\n",
       "    <tr>\n",
       "      <th>Synalar</th>\n",
       "      <td>0.00</td>\n",
       "      <td>4.56</td>\n",
       "      <td>26.03</td>\n",
       "      <td>100.00</td>\n",
       "    </tr>\n",
       "    <tr>\n",
       "      <th>Nasalide</th>\n",
       "      <td>0.00</td>\n",
       "      <td>0.91</td>\n",
       "      <td>73.79</td>\n",
       "      <td>100.00</td>\n",
       "    </tr>\n",
       "  </tbody>\n",
       "</table>\n",
       "</div>"
      ],
      "text/plain": [
       "          Optimal Sales Force  Objective function Value  \\\n",
       "Naprosyn               220.26                    219.55   \n",
       "Nipro                  245.92                    225.90   \n",
       "Anaprox                117.45                     11.07   \n",
       "Norinyl                 51.53                     12.55   \n",
       "Pironil                 29.49                     26.23   \n",
       "Lidex                   35.34                     23.48   \n",
       "Synalar                  0.00                      4.56   \n",
       "Nasalide                 0.00                      0.91   \n",
       "\n",
       "          Percent Profit Reduction  Percent Salesforce Reduction  \n",
       "Naprosyn                      0.74                         18.58  \n",
       "Nipro                         1.19                         25.49  \n",
       "Anaprox                      14.54                         31.59  \n",
       "Norinyl                       4.99                         27.76  \n",
       "Pironil                       0.92                         20.03  \n",
       "Lidex                         1.99                         29.32  \n",
       "Synalar                      26.03                        100.00  \n",
       "Nasalide                     73.79                        100.00  "
      ]
     },
     "execution_count": 211,
     "metadata": {},
     "output_type": "execute_result"
    }
   ],
   "source": [
    "lf"
   ]
  },
  {
   "cell_type": "code",
   "execution_count": 212,
   "metadata": {},
   "outputs": [
    {
     "data": {
      "text/html": [
       "<div>\n",
       "<style scoped>\n",
       "    .dataframe tbody tr th:only-of-type {\n",
       "        vertical-align: middle;\n",
       "    }\n",
       "\n",
       "    .dataframe tbody tr th {\n",
       "        vertical-align: top;\n",
       "    }\n",
       "\n",
       "    .dataframe thead th {\n",
       "        text-align: right;\n",
       "    }\n",
       "</style>\n",
       "<table border=\"1\" class=\"dataframe\">\n",
       "  <thead>\n",
       "    <tr style=\"text-align: right;\">\n",
       "      <th></th>\n",
       "      <th>Naprosyn</th>\n",
       "      <th>Nipro</th>\n",
       "      <th>Anaprox</th>\n",
       "      <th>Norinyl</th>\n",
       "      <th>Pironil</th>\n",
       "      <th>Lidex</th>\n",
       "      <th>Synalar</th>\n",
       "      <th>Nasalide</th>\n",
       "    </tr>\n",
       "  </thead>\n",
       "  <tbody>\n",
       "    <tr>\n",
       "      <th>0</th>\n",
       "      <td>0.70</td>\n",
       "      <td>0.80</td>\n",
       "      <td>0.55</td>\n",
       "      <td>0.72</td>\n",
       "      <td>0.72</td>\n",
       "      <td>0.62</td>\n",
       "      <td>0.53</td>\n",
       "      <td>0.52</td>\n",
       "    </tr>\n",
       "    <tr>\n",
       "      <th>1</th>\n",
       "      <td>214.40</td>\n",
       "      <td>210.10</td>\n",
       "      <td>36.50</td>\n",
       "      <td>21.20</td>\n",
       "      <td>37.20</td>\n",
       "      <td>38.00</td>\n",
       "      <td>14.60</td>\n",
       "      <td>11.20</td>\n",
       "    </tr>\n",
       "    <tr>\n",
       "      <th>2</th>\n",
       "      <td>96.80</td>\n",
       "      <td>97.20</td>\n",
       "      <td>142.40</td>\n",
       "      <td>52.70</td>\n",
       "      <td>24.10</td>\n",
       "      <td>27.30</td>\n",
       "      <td>29.70</td>\n",
       "      <td>56.80</td>\n",
       "    </tr>\n",
       "  </tbody>\n",
       "</table>\n",
       "</div>"
      ],
      "text/plain": [
       "    Naprosyn   Nipro   Anaprox   Norinyl   Pironil   Lidex   Synalar  \\\n",
       "0       0.70    0.80      0.55      0.72      0.72    0.62      0.53   \n",
       "1     214.40  210.10     36.50     21.20     37.20   38.00     14.60   \n",
       "2      96.80   97.20    142.40     52.70     24.10   27.30     29.70   \n",
       "\n",
       "    Nasalide  \n",
       "0       0.52  \n",
       "1      11.20  \n",
       "2      56.80  "
      ]
     },
     "execution_count": 212,
     "metadata": {},
     "output_type": "execute_result"
    }
   ],
   "source": [
    "rev"
   ]
  },
  {
   "cell_type": "code",
   "execution_count": 135,
   "metadata": {},
   "outputs": [
    {
     "data": {
      "text/html": [
       "<div>\n",
       "<style scoped>\n",
       "    .dataframe tbody tr th:only-of-type {\n",
       "        vertical-align: middle;\n",
       "    }\n",
       "\n",
       "    .dataframe tbody tr th {\n",
       "        vertical-align: top;\n",
       "    }\n",
       "\n",
       "    .dataframe thead th {\n",
       "        text-align: right;\n",
       "    }\n",
       "</style>\n",
       "<table border=\"1\" class=\"dataframe\">\n",
       "  <thead>\n",
       "    <tr style=\"text-align: right;\">\n",
       "      <th></th>\n",
       "      <th>Unnamed: 0</th>\n",
       "      <th>Naprosyn</th>\n",
       "      <th>Nipro</th>\n",
       "      <th>Anaprox</th>\n",
       "      <th>Norinyl</th>\n",
       "      <th>Pironil</th>\n",
       "      <th>Lidex</th>\n",
       "      <th>Synalar</th>\n",
       "      <th>Nasalide</th>\n",
       "    </tr>\n",
       "  </thead>\n",
       "  <tbody>\n",
       "    <tr>\n",
       "      <th>0</th>\n",
       "      <td>Zero</td>\n",
       "      <td>0.30</td>\n",
       "      <td>0.47</td>\n",
       "      <td>0.15</td>\n",
       "      <td>0.31</td>\n",
       "      <td>0.45</td>\n",
       "      <td>0.56</td>\n",
       "      <td>0.59</td>\n",
       "      <td>0.15</td>\n",
       "    </tr>\n",
       "    <tr>\n",
       "      <th>1</th>\n",
       "      <td>50% of current</td>\n",
       "      <td>0.45</td>\n",
       "      <td>0.68</td>\n",
       "      <td>0.48</td>\n",
       "      <td>0.63</td>\n",
       "      <td>0.70</td>\n",
       "      <td>0.80</td>\n",
       "      <td>0.76</td>\n",
       "      <td>0.61</td>\n",
       "    </tr>\n",
       "    <tr>\n",
       "      <th>2</th>\n",
       "      <td>100% of current</td>\n",
       "      <td>1.00</td>\n",
       "      <td>1.05</td>\n",
       "      <td>1.04</td>\n",
       "      <td>1.03</td>\n",
       "      <td>1.01</td>\n",
       "      <td>1.02</td>\n",
       "      <td>1.02</td>\n",
       "      <td>1.07</td>\n",
       "    </tr>\n",
       "    <tr>\n",
       "      <th>3</th>\n",
       "      <td>150% of current</td>\n",
       "      <td>1.40</td>\n",
       "      <td>1.26</td>\n",
       "      <td>1.20</td>\n",
       "      <td>1.15</td>\n",
       "      <td>1.05</td>\n",
       "      <td>1.11</td>\n",
       "      <td>1.07</td>\n",
       "      <td>1.46</td>\n",
       "    </tr>\n",
       "    <tr>\n",
       "      <th>4</th>\n",
       "      <td>Saturation</td>\n",
       "      <td>1.60</td>\n",
       "      <td>1.52</td>\n",
       "      <td>1.35</td>\n",
       "      <td>1.25</td>\n",
       "      <td>1.10</td>\n",
       "      <td>1.20</td>\n",
       "      <td>1.11</td>\n",
       "      <td>1.76</td>\n",
       "    </tr>\n",
       "  </tbody>\n",
       "</table>\n",
       "</div>"
      ],
      "text/plain": [
       "        Unnamed: 0  Naprosyn  Nipro  Anaprox  Norinyl  Pironil  Lidex  \\\n",
       "0             Zero      0.30   0.47     0.15     0.31     0.45   0.56   \n",
       "1   50% of current      0.45   0.68     0.48     0.63     0.70   0.80   \n",
       "2  100% of current      1.00   1.05     1.04     1.03     1.01   1.02   \n",
       "3  150% of current      1.40   1.26     1.20     1.15     1.05   1.11   \n",
       "4       Saturation      1.60   1.52     1.35     1.25     1.10   1.20   \n",
       "\n",
       "   Synalar  Nasalide  \n",
       "0     0.59      0.15  \n",
       "1     0.76      0.61  \n",
       "2     1.02      1.07  \n",
       "3     1.07      1.46  \n",
       "4     1.11      1.76  "
      ]
     },
     "execution_count": 135,
     "metadata": {},
     "output_type": "execute_result"
    }
   ],
   "source": [
    "est"
   ]
  },
  {
   "cell_type": "markdown",
   "metadata": {},
   "source": [
    "- Naprosyn: had the least change salesforce which makes sense because it was generating the most revenue and had an average profit margin. Also, after 100% revenue still tends to change by 60% before reaching saturation.\n",
    "- Nipro: had the the least change in salesforce which makes sense because it is the most profitable and generates a lot of revenue. \n",
    "- Synalar & Nasalide: had the highest % reduction in salesforce which makes sense because they had the lowest profit margin and generated the least revenue.These drugs reach saturation quite early when compared to the others. \n",
    "- Pironil,Norinyl & Anaprox: had a larger decrease w.r.t other drugs in this category although it was significant. This is because these drug tend to reach saturation earlier. \n",
    "- Lidex: had a small change in salesforce compared to other drugs. This is most likely because it was performing well \"as-is\"."
   ]
  },
  {
   "cell_type": "code",
   "execution_count": null,
   "metadata": {},
   "outputs": [],
   "source": []
  }
 ],
 "metadata": {
  "kernelspec": {
   "display_name": "Python 3",
   "language": "python",
   "name": "python3"
  },
  "language_info": {
   "codemirror_mode": {
    "name": "ipython",
    "version": 3
   },
   "file_extension": ".py",
   "mimetype": "text/x-python",
   "name": "python",
   "nbconvert_exporter": "python",
   "pygments_lexer": "ipython3",
   "version": "3.8.5"
  }
 },
 "nbformat": 4,
 "nbformat_minor": 4
}
