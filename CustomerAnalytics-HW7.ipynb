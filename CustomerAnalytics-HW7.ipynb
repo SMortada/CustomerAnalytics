{
 "cells": [
  {
   "cell_type": "code",
   "execution_count": 7,
   "metadata": {},
   "outputs": [],
   "source": [
    "import numpy as np \n",
    "import pandas as pd \n",
    "import matplotlib.pyplot as plt \n",
    "%matplotlib inline"
   ]
  },
  {
   "cell_type": "code",
   "execution_count": 4,
   "metadata": {},
   "outputs": [],
   "source": [
    "df1 = pd.read_csv('clicksdata.kw8322228.csv')\n",
    "df2 = pd.read_csv('clicksdata.kw8322392.csv')\n",
    "df3 = pd.read_csv('clicksdata.kw8322393.csv')\n",
    "df4 = pd.read_csv('clicksdata.kw8322445.csv')"
   ]
  },
  {
   "cell_type": "code",
   "execution_count": 6,
   "metadata": {},
   "outputs": [
    {
     "data": {
      "text/html": [
       "<div>\n",
       "<style scoped>\n",
       "    .dataframe tbody tr th:only-of-type {\n",
       "        vertical-align: middle;\n",
       "    }\n",
       "\n",
       "    .dataframe tbody tr th {\n",
       "        vertical-align: top;\n",
       "    }\n",
       "\n",
       "    .dataframe thead th {\n",
       "        text-align: right;\n",
       "    }\n",
       "</style>\n",
       "<table border=\"1\" class=\"dataframe\">\n",
       "  <thead>\n",
       "    <tr style=\"text-align: right;\">\n",
       "      <th></th>\n",
       "      <th>Unnamed: 0</th>\n",
       "      <th>bid.value</th>\n",
       "      <th>n.clicks</th>\n",
       "    </tr>\n",
       "  </thead>\n",
       "  <tbody>\n",
       "    <tr>\n",
       "      <th>0</th>\n",
       "      <td>1</td>\n",
       "      <td>1.44</td>\n",
       "      <td>30</td>\n",
       "    </tr>\n",
       "    <tr>\n",
       "      <th>1</th>\n",
       "      <td>2</td>\n",
       "      <td>2.07</td>\n",
       "      <td>45</td>\n",
       "    </tr>\n",
       "    <tr>\n",
       "      <th>2</th>\n",
       "      <td>3</td>\n",
       "      <td>2.78</td>\n",
       "      <td>60</td>\n",
       "    </tr>\n",
       "    <tr>\n",
       "      <th>3</th>\n",
       "      <td>4</td>\n",
       "      <td>3.57</td>\n",
       "      <td>75</td>\n",
       "    </tr>\n",
       "    <tr>\n",
       "      <th>4</th>\n",
       "      <td>5</td>\n",
       "      <td>4.47</td>\n",
       "      <td>66</td>\n",
       "    </tr>\n",
       "    <tr>\n",
       "      <th>5</th>\n",
       "      <td>6</td>\n",
       "      <td>5.52</td>\n",
       "      <td>83</td>\n",
       "    </tr>\n",
       "    <tr>\n",
       "      <th>6</th>\n",
       "      <td>7</td>\n",
       "      <td>6.77</td>\n",
       "      <td>98</td>\n",
       "    </tr>\n",
       "    <tr>\n",
       "      <th>7</th>\n",
       "      <td>8</td>\n",
       "      <td>8.33</td>\n",
       "      <td>106</td>\n",
       "    </tr>\n",
       "    <tr>\n",
       "      <th>8</th>\n",
       "      <td>9</td>\n",
       "      <td>10.38</td>\n",
       "      <td>131</td>\n",
       "    </tr>\n",
       "  </tbody>\n",
       "</table>\n",
       "</div>"
      ],
      "text/plain": [
       "   Unnamed: 0  bid.value  n.clicks\n",
       "0           1       1.44        30\n",
       "1           2       2.07        45\n",
       "2           3       2.78        60\n",
       "3           4       3.57        75\n",
       "4           5       4.47        66\n",
       "5           6       5.52        83\n",
       "6           7       6.77        98\n",
       "7           8       8.33       106\n",
       "8           9      10.38       131"
      ]
     },
     "execution_count": 6,
     "metadata": {},
     "output_type": "execute_result"
    }
   ],
   "source": [
    "df2"
   ]
  },
  {
   "cell_type": "code",
   "execution_count": 22,
   "metadata": {},
   "outputs": [
    {
     "data": {
      "text/plain": [
       "[<matplotlib.lines.Line2D at 0x7fa259320940>]"
      ]
     },
     "execution_count": 22,
     "metadata": {},
     "output_type": "execute_result"
    },
    {
     "data": {
      "image/png": "[encoded data removed]",
      "text/plain": [
       "<Figure size 432x288 with 1 Axes>"
      ]
     },
     "metadata": {
      "needs_background": "light"
     },
     "output_type": "display_data"
    }
   ],
   "source": [
    "plt.plot(df1['bid.value'],df1['n.clicks'])"
   ]
  },
  {
   "cell_type": "code",
   "execution_count": 191,
   "metadata": {},
   "outputs": [],
   "source": [
    "from scipy.optimize import curve_fit\n",
    "def func(b,alpha,beta):\n",
    "    return alpha*(1-np.exp(-beta*b))\n",
    "\n",
    "popt = []\n",
    "cov = []\n",
    "for i in [df1,df2,df3,df4]:\n",
    "    g1 = i.sort_values(by = 'n.clicks',ascending= False)['bid.value'].reset_index(drop = True)[0]\n",
    "    popt.append(curve_fit(func, i['bid.value'],i['n.clicks'],[g1,(1/(i['bid.value'].mean()))])[0])\n",
    "    #cov.append(curve_fit(func, SF, response.iloc[:,i], p0[i])[1])"
   ]
  },
  {
   "cell_type": "code",
   "execution_count": 92,
   "metadata": {},
   "outputs": [
    {
     "data": {
      "text/plain": [
       "40.24"
      ]
     },
     "execution_count": 92,
     "metadata": {},
     "output_type": "execute_result"
    }
   ],
   "source": [
    "df1.sort_values(by = 'n.clicks',ascending= False)['bid.value'].reset_index(drop = True)[0]"
   ]
  },
  {
   "cell_type": "code",
   "execution_count": 93,
   "metadata": {},
   "outputs": [
    {
     "data": {
      "text/plain": [
       "[array([7.40913934e+01, 3.94485325e-02]),\n",
       " array([1.56440253e+02, 1.50082088e-01]),\n",
       " array([1.04799351e+02, 7.97165095e-02]),\n",
       " array([188.11203013,   0.43228883])]"
      ]
     },
     "execution_count": 93,
     "metadata": {},
     "output_type": "execute_result"
    }
   ],
   "source": [
    "popt"
   ]
  },
  {
   "cell_type": "code",
   "execution_count": 94,
   "metadata": {},
   "outputs": [
    {
     "data": {
      "text/html": [
       "<div>\n",
       "<style scoped>\n",
       "    .dataframe tbody tr th:only-of-type {\n",
       "        vertical-align: middle;\n",
       "    }\n",
       "\n",
       "    .dataframe tbody tr th {\n",
       "        vertical-align: top;\n",
       "    }\n",
       "\n",
       "    .dataframe thead th {\n",
       "        text-align: right;\n",
       "    }\n",
       "</style>\n",
       "<table border=\"1\" class=\"dataframe\">\n",
       "  <thead>\n",
       "    <tr style=\"text-align: right;\">\n",
       "      <th></th>\n",
       "      <th>alpha</th>\n",
       "      <th>beta</th>\n",
       "    </tr>\n",
       "  </thead>\n",
       "  <tbody>\n",
       "    <tr>\n",
       "      <th>0</th>\n",
       "      <td>74.091393</td>\n",
       "      <td>0.039449</td>\n",
       "    </tr>\n",
       "    <tr>\n",
       "      <th>1</th>\n",
       "      <td>156.440253</td>\n",
       "      <td>0.150082</td>\n",
       "    </tr>\n",
       "    <tr>\n",
       "      <th>2</th>\n",
       "      <td>104.799351</td>\n",
       "      <td>0.079717</td>\n",
       "    </tr>\n",
       "    <tr>\n",
       "      <th>3</th>\n",
       "      <td>188.112030</td>\n",
       "      <td>0.432289</td>\n",
       "    </tr>\n",
       "  </tbody>\n",
       "</table>\n",
       "</div>"
      ],
      "text/plain": [
       "        alpha      beta\n",
       "0   74.091393  0.039449\n",
       "1  156.440253  0.150082\n",
       "2  104.799351  0.079717\n",
       "3  188.112030  0.432289"
      ]
     },
     "execution_count": 94,
     "metadata": {},
     "output_type": "execute_result"
    }
   ],
   "source": [
    "results = pd.DataFrame(popt,columns = ['alpha','beta'])\n",
    "results"
   ]
  },
  {
   "cell_type": "markdown",
   "metadata": {},
   "source": [
    "___"
   ]
  },
  {
   "cell_type": "code",
   "execution_count": 55,
   "metadata": {},
   "outputs": [],
   "source": [
    "ltv_conv = pd.read_excel('hw-kw-ltv-conv.rate-data.xlsx')"
   ]
  },
  {
   "cell_type": "code",
   "execution_count": 193,
   "metadata": {},
   "outputs": [
    {
     "data": {
      "text/plain": [
       "[34.12777742653684, 13.563482133501077, 22.43387945209648, 5.816980876821396]"
      ]
     },
     "execution_count": 193,
     "metadata": {},
     "output_type": "execute_result"
    }
   ],
   "source": [
    "from scipy.optimize import curve_fit\n",
    "import scipy.optimize as optimize\n",
    "def func(b):\n",
    "    return -results.iloc[i,0]*(1-np.exp(-results.iloc[i,1]*b))*(ltv_conv['ltv'][i]*ltv_conv['conv.rate'][i] - b)\n",
    "opt_bid = []\n",
    "popt = []\n",
    "cov = []\n",
    "dfs = [df1,df2,df3,df4]\n",
    "\n",
    "for i in range(4):\n",
    "    optimizer_output = optimize.minimize(func, dfs[i]['bid.value'][0])\n",
    "    opt_bid.append(float(optimizer_output.x))\n",
    "opt_bid\n"
   ]
  },
  {
   "cell_type": "code",
   "execution_count": 133,
   "metadata": {},
   "outputs": [],
   "source": [
    "def expenditure(b):\n",
    "    return b*results.iloc[i,0]*(1-np.exp(-results.iloc[i,1]*b))"
   ]
  },
  {
   "cell_type": "code",
   "execution_count": 134,
   "metadata": {},
   "outputs": [],
   "source": [
    "### Calculating profits for each keyword\n",
    "profit = []\n",
    "exp = []\n",
    "for i in range(4):\n",
    "    profit.append(float(-func(opt_bid[i])))\n",
    "    exp.append(expenditure(opt_bid[i]))"
   ]
  },
  {
   "cell_type": "code",
   "execution_count": 151,
   "metadata": {},
   "outputs": [],
   "source": [
    "keywords = ['kw8322228','kw8322392','kw8322393','kw8322445']"
   ]
  },
  {
   "cell_type": "code",
   "execution_count": 152,
   "metadata": {},
   "outputs": [],
   "source": [
    "results2 = np.array([keywords,opt_bid,profit,exp])\n",
    "results2 = results2.transpose().reshape((4,4))\n"
   ]
  },
  {
   "cell_type": "code",
   "execution_count": 154,
   "metadata": {},
   "outputs": [],
   "source": [
    "results2 = pd.DataFrame(results2, columns =['Keywords','Optimal Bid','Profit','Expenditure'])"
   ]
  },
  {
   "cell_type": "code",
   "execution_count": 155,
   "metadata": {},
   "outputs": [
    {
     "data": {
      "text/html": [
       "<div>\n",
       "<style scoped>\n",
       "    .dataframe tbody tr th:only-of-type {\n",
       "        vertical-align: middle;\n",
       "    }\n",
       "\n",
       "    .dataframe tbody tr th {\n",
       "        vertical-align: top;\n",
       "    }\n",
       "\n",
       "    .dataframe thead th {\n",
       "        text-align: right;\n",
       "    }\n",
       "</style>\n",
       "<table border=\"1\" class=\"dataframe\">\n",
       "  <thead>\n",
       "    <tr style=\"text-align: right;\">\n",
       "      <th></th>\n",
       "      <th>Keywords</th>\n",
       "      <th>Optimal Bid</th>\n",
       "      <th>Profit</th>\n",
       "      <th>Expenditure</th>\n",
       "    </tr>\n",
       "  </thead>\n",
       "  <tbody>\n",
       "    <tr>\n",
       "      <th>0</th>\n",
       "      <td>kw8322228</td>\n",
       "      <td>34.12777742653684</td>\n",
       "      <td>3950.4618282517545</td>\n",
       "      <td>1870.6302815787767</td>\n",
       "    </tr>\n",
       "    <tr>\n",
       "      <th>1</th>\n",
       "      <td>kw8322392</td>\n",
       "      <td>13.563482133501077</td>\n",
       "      <td>6032.910380791332</td>\n",
       "      <td>1844.7632072732642</td>\n",
       "    </tr>\n",
       "    <tr>\n",
       "      <th>2</th>\n",
       "      <td>kw8322393</td>\n",
       "      <td>22.43387945209648</td>\n",
       "      <td>5451.615042487786</td>\n",
       "      <td>1957.8753027990222</td>\n",
       "    </tr>\n",
       "    <tr>\n",
       "      <th>3</th>\n",
       "      <td>kw8322445</td>\n",
       "      <td>5.816980876821396</td>\n",
       "      <td>4544.199940422778</td>\n",
       "      <td>1005.7263220031255</td>\n",
       "    </tr>\n",
       "  </tbody>\n",
       "</table>\n",
       "</div>"
      ],
      "text/plain": [
       "    Keywords         Optimal Bid              Profit         Expenditure\n",
       "0  kw8322228   34.12777742653684  3950.4618282517545  1870.6302815787767\n",
       "1  kw8322392  13.563482133501077   6032.910380791332  1844.7632072732642\n",
       "2  kw8322393   22.43387945209648   5451.615042487786  1957.8753027990222\n",
       "3  kw8322445   5.816980876821396   4544.199940422778  1005.7263220031255"
      ]
     },
     "execution_count": 155,
     "metadata": {},
     "output_type": "execute_result"
    }
   ],
   "source": [
    "results2"
   ]
  },
  {
   "cell_type": "markdown",
   "metadata": {},
   "source": [
    "_____"
   ]
  },
  {
   "cell_type": "code",
   "execution_count": 220,
   "metadata": {},
   "outputs": [
    {
     "data": {
      "text/html": [
       "<div>\n",
       "<style scoped>\n",
       "    .dataframe tbody tr th:only-of-type {\n",
       "        vertical-align: middle;\n",
       "    }\n",
       "\n",
       "    .dataframe tbody tr th {\n",
       "        vertical-align: top;\n",
       "    }\n",
       "\n",
       "    .dataframe thead th {\n",
       "        text-align: right;\n",
       "    }\n",
       "</style>\n",
       "<table border=\"1\" class=\"dataframe\">\n",
       "  <thead>\n",
       "    <tr style=\"text-align: right;\">\n",
       "      <th></th>\n",
       "      <th>alpha</th>\n",
       "      <th>beta</th>\n",
       "    </tr>\n",
       "  </thead>\n",
       "  <tbody>\n",
       "    <tr>\n",
       "      <th>0</th>\n",
       "      <td>74.091393</td>\n",
       "      <td>0.039449</td>\n",
       "    </tr>\n",
       "    <tr>\n",
       "      <th>1</th>\n",
       "      <td>156.440253</td>\n",
       "      <td>0.150082</td>\n",
       "    </tr>\n",
       "    <tr>\n",
       "      <th>2</th>\n",
       "      <td>104.799351</td>\n",
       "      <td>0.079717</td>\n",
       "    </tr>\n",
       "    <tr>\n",
       "      <th>3</th>\n",
       "      <td>188.112030</td>\n",
       "      <td>0.432289</td>\n",
       "    </tr>\n",
       "  </tbody>\n",
       "</table>\n",
       "</div>"
      ],
      "text/plain": [
       "        alpha      beta\n",
       "0   74.091393  0.039449\n",
       "1  156.440253  0.150082\n",
       "2  104.799351  0.079717\n",
       "3  188.112030  0.432289"
      ]
     },
     "execution_count": 220,
     "metadata": {},
     "output_type": "execute_result"
    }
   ],
   "source": [
    "results"
   ]
  },
  {
   "cell_type": "code",
   "execution_count": 226,
   "metadata": {},
   "outputs": [],
   "source": [
    "def func2(b):\n",
    "    total_profit= 0 \n",
    "    for i in range(4):\n",
    "        profit = results.iloc[i,0]*(1-np.exp(-results.iloc[i,1]*b[i]))*(ltv_conv['ltv'][i]*ltv_conv['conv.rate'][i] - b[i])\n",
    "        total_profit += profit \n",
    "    return -total_profit\n",
    "    "
   ]
  },
  {
   "cell_type": "code",
   "execution_count": 232,
   "metadata": {},
   "outputs": [],
   "source": [
    "def total_expenditure(b):\n",
    "    total_expenditure = 0\n",
    "    for i in range(4):\n",
    "        expenditure =b[i]*results.iloc[i,0]*(1-np.exp(-results.iloc[i,1]*b[i]))\n",
    "        total_expenditure += expenditure\n",
    "    return total_expenditure\n",
    "\n",
    "budget = 3000\n",
    "b1 = [20,20,20,20]\n",
    "budget_constraint_object = optimize.NonlinearConstraint(total_expenditure, 0, budget)\n",
    "bounds_object = optimize.Bounds(0, np.inf)\n",
    "\n",
    "optimizer_output = optimize.minimize(func2,b1, method='trust-constr',  bounds= bounds_object,constraints=budget_constraint_object)\n",
    "optimal_bids = optimizer_output.x"
   ]
  },
  {
   "cell_type": "code",
   "execution_count": 233,
   "metadata": {},
   "outputs": [
    {
     "data": {
      "text/plain": [
       "2999.9999987783253"
      ]
     },
     "execution_count": 233,
     "metadata": {},
     "output_type": "execute_result"
    }
   ],
   "source": [
    "total_expenditure(optimal_bids)"
   ]
  },
  {
   "cell_type": "code",
   "execution_count": 241,
   "metadata": {},
   "outputs": [],
   "source": [
    "profit2 = []\n",
    "expenditure2 = []\n",
    "for i in range(4):\n",
    "    profit2.append(-func(optimal_bids[i]))\n",
    "    expenditure2.append(optimal_bids[i]*results.iloc[i,0]*(1-np.exp(-results.iloc[i,1]*optimal_bids[i])))"
   ]
  },
  {
   "cell_type": "code",
   "execution_count": 242,
   "metadata": {},
   "outputs": [
    {
     "data": {
      "text/plain": [
       "array([17.92426926,  8.11845182, 12.82826992,  3.77570616])"
      ]
     },
     "execution_count": 242,
     "metadata": {},
     "output_type": "execute_result"
    }
   ],
   "source": [
    "optimal_bids"
   ]
  },
  {
   "cell_type": "code",
   "execution_count": 244,
   "metadata": {},
   "outputs": [
    {
     "data": {
      "text/html": [
       "<div>\n",
       "<style scoped>\n",
       "    .dataframe tbody tr th:only-of-type {\n",
       "        vertical-align: middle;\n",
       "    }\n",
       "\n",
       "    .dataframe tbody tr th {\n",
       "        vertical-align: top;\n",
       "    }\n",
       "\n",
       "    .dataframe thead th {\n",
       "        text-align: right;\n",
       "    }\n",
       "</style>\n",
       "<table border=\"1\" class=\"dataframe\">\n",
       "  <thead>\n",
       "    <tr style=\"text-align: right;\">\n",
       "      <th></th>\n",
       "      <th>Keywords</th>\n",
       "      <th>Optimal Bid</th>\n",
       "      <th>Profit</th>\n",
       "      <th>Expenditure</th>\n",
       "    </tr>\n",
       "  </thead>\n",
       "  <tbody>\n",
       "    <tr>\n",
       "      <th>0</th>\n",
       "      <td>kw8322228</td>\n",
       "      <td>17.924269263309792</td>\n",
       "      <td>3315.5033401327514</td>\n",
       "      <td>673.2085264658396</td>\n",
       "    </tr>\n",
       "    <tr>\n",
       "      <th>1</th>\n",
       "      <td>kw8322392</td>\n",
       "      <td>8.11845182195302</td>\n",
       "      <td>5487.234018026895</td>\n",
       "      <td>894.5072320215571</td>\n",
       "    </tr>\n",
       "    <tr>\n",
       "      <th>2</th>\n",
       "      <td>kw8322393</td>\n",
       "      <td>12.828269922957402</td>\n",
       "      <td>4836.6113164008675</td>\n",
       "      <td>860.8833923217323</td>\n",
       "    </tr>\n",
       "    <tr>\n",
       "      <th>3</th>\n",
       "      <td>kw8322445</td>\n",
       "      <td>3.775706156318174</td>\n",
       "      <td>4286.48969235217</td>\n",
       "      <td>571.4008479691962</td>\n",
       "    </tr>\n",
       "  </tbody>\n",
       "</table>\n",
       "</div>"
      ],
      "text/plain": [
       "    Keywords         Optimal Bid              Profit        Expenditure\n",
       "0  kw8322228  17.924269263309792  3315.5033401327514  673.2085264658396\n",
       "1  kw8322392    8.11845182195302   5487.234018026895  894.5072320215571\n",
       "2  kw8322393  12.828269922957402  4836.6113164008675  860.8833923217323\n",
       "3  kw8322445   3.775706156318174    4286.48969235217  571.4008479691962"
      ]
     },
     "execution_count": 244,
     "metadata": {},
     "output_type": "execute_result"
    }
   ],
   "source": [
    "results3 = np.array([keywords,optimal_bids,profit2,expenditure2])\n",
    "results3 = results3.transpose().reshape((4,4))\n",
    "\n",
    "results3 = pd.DataFrame(results3, columns =['Keywords','Optimal Bid','Profit','Expenditure'])\n",
    "results3"
   ]
  },
  {
   "cell_type": "code",
   "execution_count": 245,
   "metadata": {},
   "outputs": [
    {
     "data": {
      "text/html": [
       "<div>\n",
       "<style scoped>\n",
       "    .dataframe tbody tr th:only-of-type {\n",
       "        vertical-align: middle;\n",
       "    }\n",
       "\n",
       "    .dataframe tbody tr th {\n",
       "        vertical-align: top;\n",
       "    }\n",
       "\n",
       "    .dataframe thead th {\n",
       "        text-align: right;\n",
       "    }\n",
       "</style>\n",
       "<table border=\"1\" class=\"dataframe\">\n",
       "  <thead>\n",
       "    <tr style=\"text-align: right;\">\n",
       "      <th></th>\n",
       "      <th>keyword</th>\n",
       "      <th>ltv</th>\n",
       "      <th>conv.rate</th>\n",
       "    </tr>\n",
       "  </thead>\n",
       "  <tbody>\n",
       "    <tr>\n",
       "      <th>0</th>\n",
       "      <td>kw8322228</td>\n",
       "      <td>354</td>\n",
       "      <td>0.30</td>\n",
       "    </tr>\n",
       "    <tr>\n",
       "      <th>1</th>\n",
       "      <td>kw8322392</td>\n",
       "      <td>181</td>\n",
       "      <td>0.32</td>\n",
       "    </tr>\n",
       "    <tr>\n",
       "      <th>2</th>\n",
       "      <td>kw8322393</td>\n",
       "      <td>283</td>\n",
       "      <td>0.30</td>\n",
       "    </tr>\n",
       "    <tr>\n",
       "      <th>3</th>\n",
       "      <td>kw8322445</td>\n",
       "      <td>107</td>\n",
       "      <td>0.30</td>\n",
       "    </tr>\n",
       "  </tbody>\n",
       "</table>\n",
       "</div>"
      ],
      "text/plain": [
       "     keyword  ltv  conv.rate\n",
       "0  kw8322228  354       0.30\n",
       "1  kw8322392  181       0.32\n",
       "2  kw8322393  283       0.30\n",
       "3  kw8322445  107       0.30"
      ]
     },
     "execution_count": 245,
     "metadata": {},
     "output_type": "execute_result"
    }
   ],
   "source": [
    "ltv_conv"
   ]
  },
  {
   "cell_type": "code",
   "execution_count": 246,
   "metadata": {},
   "outputs": [
    {
     "data": {
      "text/html": [
       "<div>\n",
       "<style scoped>\n",
       "    .dataframe tbody tr th:only-of-type {\n",
       "        vertical-align: middle;\n",
       "    }\n",
       "\n",
       "    .dataframe tbody tr th {\n",
       "        vertical-align: top;\n",
       "    }\n",
       "\n",
       "    .dataframe thead th {\n",
       "        text-align: right;\n",
       "    }\n",
       "</style>\n",
       "<table border=\"1\" class=\"dataframe\">\n",
       "  <thead>\n",
       "    <tr style=\"text-align: right;\">\n",
       "      <th></th>\n",
       "      <th>alpha</th>\n",
       "      <th>beta</th>\n",
       "    </tr>\n",
       "  </thead>\n",
       "  <tbody>\n",
       "    <tr>\n",
       "      <th>0</th>\n",
       "      <td>74.091393</td>\n",
       "      <td>0.039449</td>\n",
       "    </tr>\n",
       "    <tr>\n",
       "      <th>1</th>\n",
       "      <td>156.440253</td>\n",
       "      <td>0.150082</td>\n",
       "    </tr>\n",
       "    <tr>\n",
       "      <th>2</th>\n",
       "      <td>104.799351</td>\n",
       "      <td>0.079717</td>\n",
       "    </tr>\n",
       "    <tr>\n",
       "      <th>3</th>\n",
       "      <td>188.112030</td>\n",
       "      <td>0.432289</td>\n",
       "    </tr>\n",
       "  </tbody>\n",
       "</table>\n",
       "</div>"
      ],
      "text/plain": [
       "        alpha      beta\n",
       "0   74.091393  0.039449\n",
       "1  156.440253  0.150082\n",
       "2  104.799351  0.079717\n",
       "3  188.112030  0.432289"
      ]
     },
     "execution_count": 246,
     "metadata": {},
     "output_type": "execute_result"
    }
   ],
   "source": [
    "results"
   ]
  },
  {
   "cell_type": "markdown",
   "metadata": {},
   "source": [
    "Relation between LTV & alpha: As ltv increases, alpha decreases. \n",
    "Relation between LTV & beta: As ltv increases, beta decreases. \n",
    "Relation between LTV & Optimal Bid: As ltv increases, optimal bid increases. \n",
    "\n",
    "Possible explanation: As the LTV of a customer increases, it would make sense that the alpha and beta variables decrease. Alpha = search volume * CTR at position 1. CTR is almost constant. The expression shows that as alpha decreases, search volume decreases. This is coupled with an increase in LTV which does make sense because if the LTV is high, then customers are going to be \"loyal\" to the advertiser and will not search any of the generic keywords again because they have found their platform of choice. "
   ]
  },
  {
   "cell_type": "code",
   "execution_count": 266,
   "metadata": {},
   "outputs": [
    {
     "data": {
      "text/plain": [
       "['1870.6302815787767',\n",
       " '1844.7632072732642',\n",
       " '1957.8753027990222',\n",
       " '1005.7263220031255']"
      ]
     },
     "execution_count": 266,
     "metadata": {},
     "output_type": "execute_result"
    }
   ],
   "source": [
    "list(results2['Expenditure'].values)"
   ]
  },
  {
   "cell_type": "code",
   "execution_count": 287,
   "metadata": {},
   "outputs": [
    {
     "data": {
      "text/html": [
       "<div>\n",
       "<style scoped>\n",
       "    .dataframe tbody tr th:only-of-type {\n",
       "        vertical-align: middle;\n",
       "    }\n",
       "\n",
       "    .dataframe tbody tr th {\n",
       "        vertical-align: top;\n",
       "    }\n",
       "\n",
       "    .dataframe thead th {\n",
       "        text-align: right;\n",
       "    }\n",
       "</style>\n",
       "<table border=\"1\" class=\"dataframe\">\n",
       "  <thead>\n",
       "    <tr style=\"text-align: right;\">\n",
       "      <th></th>\n",
       "      <th>Keywords</th>\n",
       "      <th>Optimal Bid</th>\n",
       "      <th>Profit</th>\n",
       "      <th>Expenditure</th>\n",
       "    </tr>\n",
       "  </thead>\n",
       "  <tbody>\n",
       "    <tr>\n",
       "      <th>0</th>\n",
       "      <td>kw8322228</td>\n",
       "      <td>34.12777742653684</td>\n",
       "      <td>3950.4618282517545</td>\n",
       "      <td>1870.6302815787767</td>\n",
       "    </tr>\n",
       "    <tr>\n",
       "      <th>1</th>\n",
       "      <td>kw8322392</td>\n",
       "      <td>13.563482133501077</td>\n",
       "      <td>6032.910380791332</td>\n",
       "      <td>1844.7632072732642</td>\n",
       "    </tr>\n",
       "    <tr>\n",
       "      <th>2</th>\n",
       "      <td>kw8322393</td>\n",
       "      <td>22.43387945209648</td>\n",
       "      <td>5451.615042487786</td>\n",
       "      <td>1957.8753027990222</td>\n",
       "    </tr>\n",
       "    <tr>\n",
       "      <th>3</th>\n",
       "      <td>kw8322445</td>\n",
       "      <td>5.816980876821396</td>\n",
       "      <td>4544.199940422778</td>\n",
       "      <td>1005.7263220031255</td>\n",
       "    </tr>\n",
       "  </tbody>\n",
       "</table>\n",
       "</div>"
      ],
      "text/plain": [
       "    Keywords         Optimal Bid              Profit         Expenditure\n",
       "0  kw8322228   34.12777742653684  3950.4618282517545  1870.6302815787767\n",
       "1  kw8322392  13.563482133501077   6032.910380791332  1844.7632072732642\n",
       "2  kw8322393   22.43387945209648   5451.615042487786  1957.8753027990222\n",
       "3  kw8322445   5.816980876821396   4544.199940422778  1005.7263220031255"
      ]
     },
     "execution_count": 287,
     "metadata": {},
     "output_type": "execute_result"
    }
   ],
   "source": [
    "results2"
   ]
  },
  {
   "cell_type": "code",
   "execution_count": 288,
   "metadata": {},
   "outputs": [
    {
     "data": {
      "text/html": [
       "<div>\n",
       "<style scoped>\n",
       "    .dataframe tbody tr th:only-of-type {\n",
       "        vertical-align: middle;\n",
       "    }\n",
       "\n",
       "    .dataframe tbody tr th {\n",
       "        vertical-align: top;\n",
       "    }\n",
       "\n",
       "    .dataframe thead th {\n",
       "        text-align: right;\n",
       "    }\n",
       "</style>\n",
       "<table border=\"1\" class=\"dataframe\">\n",
       "  <thead>\n",
       "    <tr style=\"text-align: right;\">\n",
       "      <th></th>\n",
       "      <th>Keywords</th>\n",
       "      <th>Optimal Bid</th>\n",
       "      <th>Profit</th>\n",
       "      <th>Expenditure</th>\n",
       "    </tr>\n",
       "  </thead>\n",
       "  <tbody>\n",
       "    <tr>\n",
       "      <th>0</th>\n",
       "      <td>kw8322228</td>\n",
       "      <td>17.924269263309792</td>\n",
       "      <td>3315.5033401327514</td>\n",
       "      <td>673.2085264658396</td>\n",
       "    </tr>\n",
       "    <tr>\n",
       "      <th>1</th>\n",
       "      <td>kw8322392</td>\n",
       "      <td>8.11845182195302</td>\n",
       "      <td>5487.234018026895</td>\n",
       "      <td>894.5072320215571</td>\n",
       "    </tr>\n",
       "    <tr>\n",
       "      <th>2</th>\n",
       "      <td>kw8322393</td>\n",
       "      <td>12.828269922957402</td>\n",
       "      <td>4836.6113164008675</td>\n",
       "      <td>860.8833923217323</td>\n",
       "    </tr>\n",
       "    <tr>\n",
       "      <th>3</th>\n",
       "      <td>kw8322445</td>\n",
       "      <td>3.775706156318174</td>\n",
       "      <td>4286.48969235217</td>\n",
       "      <td>571.4008479691962</td>\n",
       "    </tr>\n",
       "  </tbody>\n",
       "</table>\n",
       "</div>"
      ],
      "text/plain": [
       "    Keywords         Optimal Bid              Profit        Expenditure\n",
       "0  kw8322228  17.924269263309792  3315.5033401327514  673.2085264658396\n",
       "1  kw8322392    8.11845182195302   5487.234018026895  894.5072320215571\n",
       "2  kw8322393  12.828269922957402  4836.6113164008675  860.8833923217323\n",
       "3  kw8322445   3.775706156318174    4286.48969235217  571.4008479691962"
      ]
     },
     "execution_count": 288,
     "metadata": {},
     "output_type": "execute_result"
    }
   ],
   "source": [
    "results3"
   ]
  },
  {
   "cell_type": "code",
   "execution_count": null,
   "metadata": {},
   "outputs": [],
   "source": [
    "[0.64,0.52,0.56,0.56]"
   ]
  },
  {
   "cell_type": "markdown",
   "metadata": {},
   "source": [
    "Keyword 2 has the least reduction in expenditure (~52%) "
   ]
  }
 ],
 "metadata": {
  "kernelspec": {
   "display_name": "Python 3",
   "language": "python",
   "name": "python3"
  },
  "language_info": {
   "codemirror_mode": {
    "name": "ipython",
    "version": 3
   },
   "file_extension": ".py",
   "mimetype": "text/x-python",
   "name": "python",
   "nbconvert_exporter": "python",
   "pygments_lexer": "ipython3",
   "version": "3.8.5"
  }
 },
 "nbformat": 4,
 "nbformat_minor": 4
}
